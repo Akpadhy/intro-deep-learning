{
 "cells": [
  {
   "cell_type": "markdown",
   "metadata": {},
   "source": [
    "# Introduction to Deep Learning: Homework 3\n",
    "\n",
    "**Nathan Inkawhich**"
   ]
  },
  {
   "cell_type": "markdown",
   "metadata": {},
   "source": [
    "**[Duke Community Standard](http://integrity.duke.edu/standard.html): By typing your name below, you are certifying that you have adhered to the Duke Community Standard in completing this assignment.**\n",
    "\n",
    "Name: Nathan Inkawhich"
   ]
  },
  {
   "cell_type": "markdown",
   "metadata": {},
   "source": [
    "## Problem 1: Calculate receptive field given filter size, stride, pooling size (24 points)\n",
    "\n",
    "The receptive field is defined as the region in the input space (part of an image) that an element\n",
    "of a CNN’s feature map is representing. Note however that all elements (pixels) in the receptive\n",
    "field are not necessarily equally weighted, but relatively weighted by the elements of the\n",
    "convolutional filters and pooling layers. To get a better understanding of the influence of an\n",
    "image region to an element of a feature map please:\n",
    "\n",
    "- a) Derive an expression for the receptive field, in pixels, for one convolutional layer given its filter size and stride.\n",
    "- b) Extend the previous expression to the case where the convolution is followed by pooling operator given its size and stride.\n",
    "- c) Calculate the receptive field of VGG16 right before the first fully connected layer, for a 224x244x3 input image.\n",
    "    \n",
    "**(A)**\n",
    "\n",
    "$k_{conv}$: convolutional filter size\n",
    "\n",
    "$s_{conv}$: stride of convolutional filter\n",
    "\n",
    "$s_{prev}$: product of strides of all previous layers, i.e. $s_{prev}= \\prod_{i=1}^{L-1}s_i$. Note, stride of current layer L not included.\n",
    "\n",
    "$r_{in}$: receptive field of element of input feature map\n",
    "\n",
    "$r_{conv}$: receptive field of element of convolutional layer output feature map (i.e. answer)\n",
    "\n",
    "$r_{conv} = r_{in}+(k_{conv}-1)*s_{prev}$\n",
    "\n",
    "$s_{prev} = s_{prev} * s_{conv}$\n",
    "\n",
    "**(B)**\n",
    "\n",
    "$r_{pool} = r_{conv} + (k_{pool}-1)*s_{prev}$\n",
    "\n",
    "$s_{prev} = s_{prev} * s_{pool}$\n",
    "\n",
    "**(C)**\n",
    "\n",
    "\n",
    "VGG16 NETWORK:\n",
    "- All convolutional layers have k=3, s=1\n",
    "- All pooling layers have k=2, s=2\n",
    "\n",
    "$r_0=1, s_0=1$\n",
    "\n",
    "- conv: $r_{out} = 1 + (3-1)*1 = 3; s_{prev}=1*1=1$\n",
    "\n",
    "- conv: $r_{out} = 3 + (3-1)*1 = 5; s_{prev}=1*1=1$\n",
    "\n",
    "- pool: $r_{out} = 5 + (2-1)*1 = 6; s_{prev}=1*2=2$\n",
    "\n",
    "- conv: $r_{out} = 6 + (3-1)*2 = 10; s_{prev}=2*1=2$\n",
    "\n",
    "- conv: $r_{out} = 10 + (3-1)*2 = 14; s_{prev}=2*1=2$\n",
    "\n",
    "- pool: $r_{out} = 14 + (2-1)*2 = 16; s_{prev}=2*2=4$\n",
    "\n",
    "- conv: $r_{out} = 16 + (3-1)*4 = 24; s_{prev}=4*1=4$\n",
    "\n",
    "- conv: $r_{out} = 24 + (3-1)*4 = 32; s_{prev}=4*1=4$\n",
    "\n",
    "- conv: $r_{out} = 32 + (3-1)*4 = 40; s_{prev}=4*1=4$\n",
    "\n",
    "- pool: $r_{out} = 40 + (2-1)*4 = 44; s_{prev}=4*2=8$\n",
    "\n",
    "- conv: $r_{out} = 44 + (3-1)*8 = 60; s_{prev}=8*1=8$\n",
    "\n",
    "- conv: $r_{out} = 60 + (3-1)*8 = 76; s_{prev}=8*1=8$\n",
    "\n",
    "- conv: $r_{out} = 76 + (3-1)*8 = 92; s_{prev}=8*1=8$\n",
    "\n",
    "- pool: $r_{out} = 92 + (2-1)*8 = 100; s_{prev}=8*2=16$\n",
    "\n",
    "- conv: $r_{out} = 100 + (3-1)*16 = 132; s_{prev}=16*1=16$\n",
    "\n",
    "- conv: $r_{out} = 132 + (3-1)*16 = 164; s_{prev}=16*1=16$\n",
    "\n",
    "- conv: $r_{out} = 164 + (3-1)*16 = 196; s_{prev}=16*1=16$\n",
    "\n",
    "- pool: $r_{out} = 196 + (2-1)*16 = 212; s_{prev}=16*2=32$\n",
    "\n",
    "$r_{out} = 212$\n",
    " \n"
   ]
  },
  {
   "cell_type": "markdown",
   "metadata": {},
   "source": [
    "## Problem 2: Implementation of a 2-layer CNN with TensorFlow (24 points)"
   ]
  },
  {
   "cell_type": "code",
   "execution_count": 1,
   "metadata": {
    "collapsed": true
   },
   "outputs": [],
   "source": [
    "import matplotlib.pyplot as plt\n",
    "%matplotlib inline\n",
    "import numpy as np\n",
    "import tensorflow as tf\n",
    "from tqdm import trange\n",
    "from tensorflow.examples.tutorials.mnist import input_data"
   ]
  },
  {
   "cell_type": "markdown",
   "metadata": {},
   "source": [
    "#### Training Helper Function"
   ]
  },
  {
   "cell_type": "code",
   "execution_count": 2,
   "metadata": {
    "collapsed": false
   },
   "outputs": [],
   "source": [
    "def train_step(train_optimizer, iterations, train_dataloader, val_dataloader, test_dataloader=None, batch_size=100, val_step=50):\n",
    "    with tf.Session() as sess:\n",
    "        \n",
    "        # Reset all variables in graph to defaults\n",
    "        sess.run([tf.global_variables_initializer(), tf.local_variables_initializer()])\n",
    "\n",
    "        # Initialize stat keepers\n",
    "        val_history = []\n",
    "        val_iter_history = []\n",
    "        loss_history = []\n",
    "        \n",
    "        # Training Loop\n",
    "        for i in range(iterations):\n",
    "            \n",
    "            # Check if it is time to do a validation step\n",
    "            #   Note: fxn is hardcoded to validate over 500 samples\n",
    "            if (i%val_step == 0) or (i == iterations-1):\n",
    "                val_acc = 0\n",
    "                for v in range(10):\n",
    "                    batch = val_dataloader.next_batch(50)\n",
    "                    batch0 = np.reshape(batch[0], (50,28,28,1))\n",
    "                    val_acc += (1/10.) * accuracy.eval(feed_dict={x: batch0, y_: batch[1], keep_prob: 1.})\n",
    "                val_history.append(val_acc)\n",
    "                val_iter_history.append(i)\n",
    "                print(\"[ {} / {} ] Validation Accuracy: {}\".format(i,iterations,val_acc))\n",
    "            \n",
    "            # Get a batch of training data and run a train step\n",
    "            batch = train_dataloader.next_batch(batch_size)\n",
    "            batch0 = np.reshape(batch[0], (batch_size,28,28,1))\n",
    "            loss,_ = sess.run([xent, train_optimizer], feed_dict={x: batch0, y_: batch[1], keep_prob: 0.5})\n",
    "            loss_history.append(loss)\n",
    "              \n",
    "        # At end of training, do a final test step\n",
    "        print(\"Best Val Accuracy: {}\".format(max(val_history)))\n",
    "        if test_dataloader != None:\n",
    "            print('Final Test Accuracy: {}'.format(accuracy.eval(feed_dict={x: np.reshape(test_dataloader.images,(len(test_dataloader.images),28,28,1)), y_: mnist.test.labels, keep_prob: 1.})))\n",
    "        \n",
    "        return val_history, val_iter_history, loss_history"
   ]
  },
  {
   "cell_type": "markdown",
   "metadata": {},
   "source": [
    "### Problem 2a - Vanilla CNN\n",
    "\n",
    "Model Specs:\n",
    "- Both conv layers use 3x3 filters\n",
    "- Conv Layer 1 has 32 filters\n",
    "- Conv Layer 2 has 64 filters\n",
    "- Number of nodes in first FC layer: 512\n",
    "- Loss function: cross-entropy\n",
    "- Trained with vanilla SGD with fixed lr=0.1, batch size = 100 and training iterations = 2000"
   ]
  },
  {
   "cell_type": "markdown",
   "metadata": {},
   "source": [
    "#### Build Model"
   ]
  },
  {
   "cell_type": "code",
   "execution_count": 3,
   "metadata": {
    "collapsed": false
   },
   "outputs": [
    {
     "name": "stdout",
     "output_type": "stream",
     "text": [
      "Conv1.shape: (?, 28, 28, 32)\n",
      "Conv2.shape: (?, 28, 28, 64)\n",
      "fc1.shape: (?, 512)\n",
      "logits.shape: (?, 10)\n",
      "WARNING:tensorflow:From <ipython-input-3-403f2fc28de1>:48: softmax_cross_entropy_with_logits (from tensorflow.python.ops.nn_ops) is deprecated and will be removed in a future version.\n",
      "Instructions for updating:\n",
      "\n",
      "Future major versions of TensorFlow will allow gradients to flow\n",
      "into the labels input on backprop by default.\n",
      "\n",
      "See @{tf.nn.softmax_cross_entropy_with_logits_v2}.\n",
      "\n"
     ]
    }
   ],
   "source": [
    "# Build Network with 2 conv layers and 2 fc layers with 10-class output\n",
    "\n",
    "#### Initialize Placeholders for inputs\n",
    "x = tf.placeholder(tf.float32, [None, 28, 28, 1])\n",
    "y_ = tf.placeholder(tf.float32, [None, 10])\n",
    "keep_prob = tf.placeholder(tf.float32) # Just here so I can use same trainer function. NOT used in this net\n",
    "\n",
    "#### Initialize Learnable Parameters\n",
    "# Conv-1\n",
    "conv1_filter = tf.Variable(tf.truncated_normal([3,3,1,32], dtype=tf.float32, stddev=1e-1))\n",
    "conv1_bias = tf.Variable(tf.constant(0.0, shape=[32], dtype=tf.float32), trainable=True)\n",
    "# Conv-2\n",
    "conv2_filter = tf.Variable(tf.truncated_normal([3,3,32,64], dtype=tf.float32, stddev=1e-1))\n",
    "conv2_bias = tf.Variable(tf.constant(0.0, shape=[64], dtype=tf.float32), trainable=True)\n",
    "# FC-1\n",
    "fc1_W = tf.Variable(tf.truncated_normal([28*28*64, 512], dtype=tf.float32, stddev=1e-1))\n",
    "fc1_b = tf.Variable(tf.constant(0.0, shape=[512], dtype=tf.float32), trainable=True)\n",
    "# FC-2\n",
    "fc2_W = tf.Variable(tf.truncated_normal([512, 10], dtype=tf.float32, stddev=1e-1))\n",
    "fc2_b = tf.Variable(tf.constant(0.0, shape=[10], dtype=tf.float32), trainable=True)\n",
    "\n",
    "#### Build Forward Pass\n",
    "# Conv-1\n",
    "c1 = tf.nn.conv2d(x, conv1_filter, [1,1,1,1], padding=\"SAME\")\n",
    "b1 = tf.nn.bias_add(c1, conv1_bias)\n",
    "conv1 = tf.nn.relu(b1)\n",
    "print(\"Conv1.shape: {0}\".format(conv1.shape))\n",
    "# Conv-2\n",
    "c2 = tf.nn.conv2d(conv1, conv2_filter, [1,1,1,1], padding=\"SAME\")\n",
    "b2 = tf.nn.bias_add(c2, conv2_bias)\n",
    "conv2 = tf.nn.relu(b2)\n",
    "print(\"Conv2.shape: {0}\".format(conv2.shape))\n",
    "# FC-1\n",
    "flat = tf.reshape(conv2, [-1,28*28*64])\n",
    "f1 = tf.matmul(flat, fc1_W) + fc1_b\n",
    "fc1 = tf.nn.relu(f1)\n",
    "print(\"fc1.shape: {0}\".format(fc1.shape))\n",
    "# FC-2\n",
    "f2 = tf.matmul(fc1, fc2_W) + fc2_b\n",
    "y_logits = f2\n",
    "print(\"logits.shape: {0}\".format(y_logits.shape))\n",
    "\n",
    "# Define accuracy operation for validation step\n",
    "correct_preds = tf.equal(tf.argmax(y_logits,1),tf.argmax(y_, 1))\n",
    "accuracy = tf.reduce_mean(tf.cast(correct_preds, tf.float32))\n",
    "\n",
    "# Define Cross Entropy Loss Function and SGD Optimizer\n",
    "xent = tf.reduce_mean(tf.nn.softmax_cross_entropy_with_logits(labels=y_, logits=y_logits))\n",
    "p2_trainer = tf.train.GradientDescentOptimizer(learning_rate=0.1).minimize(xent)"
   ]
  },
  {
   "cell_type": "markdown",
   "metadata": {},
   "source": [
    "#### Run Model"
   ]
  },
  {
   "cell_type": "code",
   "execution_count": 4,
   "metadata": {
    "collapsed": false
   },
   "outputs": [
    {
     "name": "stdout",
     "output_type": "stream",
     "text": [
      "WARNING:tensorflow:From <ipython-input-4-59d3440fa2b9>:2: read_data_sets (from tensorflow.contrib.learn.python.learn.datasets.mnist) is deprecated and will be removed in a future version.\n",
      "Instructions for updating:\n",
      "Please use alternatives such as official/mnist/dataset.py from tensorflow/models.\n",
      "WARNING:tensorflow:From /Users/nathaninkawhich/anaconda/envs/tensorflow_p36/lib/python3.6/site-packages/tensorflow/contrib/learn/python/learn/datasets/mnist.py:260: maybe_download (from tensorflow.contrib.learn.python.learn.datasets.base) is deprecated and will be removed in a future version.\n",
      "Instructions for updating:\n",
      "Please write your own downloading logic.\n",
      "WARNING:tensorflow:From /Users/nathaninkawhich/anaconda/envs/tensorflow_p36/lib/python3.6/site-packages/tensorflow/contrib/learn/python/learn/datasets/mnist.py:262: extract_images (from tensorflow.contrib.learn.python.learn.datasets.mnist) is deprecated and will be removed in a future version.\n",
      "Instructions for updating:\n",
      "Please use tf.data to implement this functionality.\n",
      "Extracting ../MNIST_data/train-images-idx3-ubyte.gz\n",
      "WARNING:tensorflow:From /Users/nathaninkawhich/anaconda/envs/tensorflow_p36/lib/python3.6/site-packages/tensorflow/contrib/learn/python/learn/datasets/mnist.py:267: extract_labels (from tensorflow.contrib.learn.python.learn.datasets.mnist) is deprecated and will be removed in a future version.\n",
      "Instructions for updating:\n",
      "Please use tf.data to implement this functionality.\n",
      "Extracting ../MNIST_data/train-labels-idx1-ubyte.gz\n",
      "WARNING:tensorflow:From /Users/nathaninkawhich/anaconda/envs/tensorflow_p36/lib/python3.6/site-packages/tensorflow/contrib/learn/python/learn/datasets/mnist.py:110: dense_to_one_hot (from tensorflow.contrib.learn.python.learn.datasets.mnist) is deprecated and will be removed in a future version.\n",
      "Instructions for updating:\n",
      "Please use tf.one_hot on tensors.\n",
      "Extracting ../MNIST_data/t10k-images-idx3-ubyte.gz\n",
      "Extracting ../MNIST_data/t10k-labels-idx1-ubyte.gz\n",
      "WARNING:tensorflow:From /Users/nathaninkawhich/anaconda/envs/tensorflow_p36/lib/python3.6/site-packages/tensorflow/contrib/learn/python/learn/datasets/mnist.py:290: DataSet.__init__ (from tensorflow.contrib.learn.python.learn.datasets.mnist) is deprecated and will be removed in a future version.\n",
      "Instructions for updating:\n",
      "Please use alternatives such as official/mnist/dataset.py from tensorflow/models.\n",
      "[ 0 / 2000 ] Validation Accuracy: 0.07599999904632569\n",
      "[ 50 / 2000 ] Validation Accuracy: 0.8599999904632569\n",
      "[ 100 / 2000 ] Validation Accuracy: 0.902000004053116\n",
      "[ 150 / 2000 ] Validation Accuracy: 0.9240000009536745\n",
      "[ 200 / 2000 ] Validation Accuracy: 0.9480000019073489\n",
      "[ 250 / 2000 ] Validation Accuracy: 0.9500000000000001\n",
      "[ 300 / 2000 ] Validation Accuracy: 0.9579999923706055\n",
      "[ 350 / 2000 ] Validation Accuracy: 0.9519999980926515\n",
      "[ 400 / 2000 ] Validation Accuracy: 0.9699999988079071\n",
      "[ 450 / 2000 ] Validation Accuracy: 0.9459999978542329\n",
      "[ 500 / 2000 ] Validation Accuracy: 0.9719999969005584\n",
      "[ 550 / 2000 ] Validation Accuracy: 0.9759999990463257\n",
      "[ 600 / 2000 ] Validation Accuracy: 0.971999990940094\n",
      "[ 650 / 2000 ] Validation Accuracy: 0.9680000066757202\n",
      "[ 700 / 2000 ] Validation Accuracy: 0.9780000090599061\n",
      "[ 750 / 2000 ] Validation Accuracy: 0.9720000088214875\n",
      "[ 800 / 2000 ] Validation Accuracy: 0.9660000026226043\n",
      "[ 850 / 2000 ] Validation Accuracy: 0.9760000050067903\n",
      "[ 900 / 2000 ] Validation Accuracy: 0.9860000014305115\n",
      "[ 950 / 2000 ] Validation Accuracy: 0.9799999952316283\n",
      "[ 1000 / 2000 ] Validation Accuracy: 0.9760000050067901\n",
      "[ 1050 / 2000 ] Validation Accuracy: 0.9580000042915344\n",
      "[ 1100 / 2000 ] Validation Accuracy: 0.9760000050067902\n",
      "[ 1150 / 2000 ] Validation Accuracy: 0.9819999992847441\n",
      "[ 1200 / 2000 ] Validation Accuracy: 0.9780000030994414\n",
      "[ 1250 / 2000 ] Validation Accuracy: 0.9819999992847444\n",
      "[ 1300 / 2000 ] Validation Accuracy: 0.9840000033378602\n",
      "[ 1350 / 2000 ] Validation Accuracy: 0.9820000112056733\n",
      "[ 1400 / 2000 ] Validation Accuracy: 0.9800000011920929\n",
      "[ 1450 / 2000 ] Validation Accuracy: 0.9800000011920929\n",
      "[ 1500 / 2000 ] Validation Accuracy: 0.9820000052452087\n",
      "[ 1550 / 2000 ] Validation Accuracy: 0.9740000069141388\n",
      "[ 1600 / 2000 ] Validation Accuracy: 0.9780000030994416\n",
      "[ 1650 / 2000 ] Validation Accuracy: 0.9800000011920929\n",
      "[ 1700 / 2000 ] Validation Accuracy: 0.9739999949932097\n",
      "[ 1750 / 2000 ] Validation Accuracy: 0.9819999992847442\n",
      "[ 1800 / 2000 ] Validation Accuracy: 0.9900000035762786\n",
      "[ 1850 / 2000 ] Validation Accuracy: 0.9840000033378602\n",
      "[ 1900 / 2000 ] Validation Accuracy: 0.9760000050067903\n",
      "[ 1950 / 2000 ] Validation Accuracy: 0.9880000054836273\n",
      "[ 1999 / 2000 ] Validation Accuracy: 0.9719999969005585\n",
      "Best Val Accuracy: 0.9900000035762786\n",
      "Final Test Accuracy: 0.9824000000953674\n"
     ]
    },
    {
     "data": {
      "image/png": "[encoded data removed]",
      "text/plain": [
       "<Figure size 720x360 with 2 Axes>"
      ]
     },
     "metadata": {
      "needs_background": "light"
     },
     "output_type": "display_data"
    }
   ],
   "source": [
    "# Import data\n",
    "mnist = input_data.read_data_sets(\"../MNIST_data/\", one_hot=True)  \n",
    "# Run train step\n",
    "v_hist,v_iters,l_hist = train_step(p2_trainer, 2000, mnist.train, mnist.validation, mnist.test)\n",
    "\n",
    "plt.figure(figsize=(10,5))\n",
    "plt.subplot(1,2,1)\n",
    "plt.plot(v_iters, v_hist,label=\"Val Acc\")\n",
    "plt.title(\"Validation Accuracy vs Iterations\")\n",
    "plt.xlabel(\"Iteration\")\n",
    "plt.ylabel(\"Val Accuracy\")\n",
    "plt.ylim(0.,1.)\n",
    "\n",
    "plt.subplot(1,2,2)\n",
    "plt.plot(range(len(l_hist)),l_hist, label=\"Loss\")\n",
    "plt.title(\"Training Loss vs Iterations\")\n",
    "plt.xlabel(\"Iteration\")\n",
    "plt.ylabel(\"Loss\")\n",
    "\n",
    "plt.show()"
   ]
  },
  {
   "cell_type": "markdown",
   "metadata": {},
   "source": [
    "### Problem 2b - Calculate the receptive field of your 2-layer CNN for a 28x28 MNIST image.\n",
    "\n",
    "$r_0=1, s_0=1$\n",
    "\n",
    "- conv: $r_{out} = 1 + (3-1)*1 = 3; s_{prev}=1*1=1$\n",
    "\n",
    "- conv: $r_{out} = 3 + (3-1)*1 = 5; s_{prev}=1*1=1$\n",
    "\n",
    "$r_{out} = 5$ "
   ]
  },
  {
   "cell_type": "markdown",
   "metadata": {},
   "source": [
    "## Problem 3: Adding pooling and dropout to a 2-layer CNN with TensorFlow (24 points)\n",
    "\n",
    "### Problem 3a - CNN with Pooling\n",
    "\n",
    "- adding 2x2 pooling layers after each convolutional layer"
   ]
  },
  {
   "cell_type": "markdown",
   "metadata": {},
   "source": [
    "#### Build Model"
   ]
  },
  {
   "cell_type": "code",
   "execution_count": 5,
   "metadata": {
    "collapsed": false
   },
   "outputs": [
    {
     "name": "stdout",
     "output_type": "stream",
     "text": [
      "Conv1.shape: (?, 28, 28, 32)\n",
      "Conv1_pool.shape: (?, 14, 14, 32)\n",
      "Conv2.shape: (?, 14, 14, 64)\n",
      "Conv2_pool.shape: (?, 7, 7, 64)\n",
      "fc1.shape: (?, 512)\n",
      "y_logits.shape: (?, 10)\n"
     ]
    }
   ],
   "source": [
    "# Clear previous ops from the graph\n",
    "tf.reset_default_graph()\n",
    "\n",
    "# Build Network with 2 conv layers, a max pool layer after each conv, \n",
    "#   and 2 fc layers with 10-class output\n",
    "\n",
    "#### Initialize Placeholders for inputs\n",
    "x = tf.placeholder(tf.float32, [None, 28, 28, 1])\n",
    "y_ = tf.placeholder(tf.float32, [None, 10])\n",
    "keep_prob = tf.placeholder(tf.float32) # Just here so I can use same trainer function. NOT used in this net\n",
    "\n",
    "#### Initialize Learnable Parameters\n",
    "# Conv-1\n",
    "conv1_filter = tf.Variable(tf.truncated_normal([3,3,1,32], dtype=tf.float32, stddev=1e-1))\n",
    "conv1_bias = tf.Variable(tf.constant(0.0, shape=[32], dtype=tf.float32), trainable=True)\n",
    "# Conv-2\n",
    "conv2_filter = tf.Variable(tf.truncated_normal([3,3,32,64], dtype=tf.float32, stddev=1e-1))\n",
    "conv2_bias = tf.Variable(tf.constant(0.0, shape=[64], dtype=tf.float32), trainable=True)\n",
    "# FC-1\n",
    "fc1_W = tf.Variable(tf.truncated_normal([7*7*64, 512], dtype=tf.float32, stddev=1e-1))\n",
    "fc1_b = tf.Variable(tf.constant(0.0, shape=[512], dtype=tf.float32), trainable=True)\n",
    "# FC-2\n",
    "fc2_W = tf.Variable(tf.truncated_normal([512, 10], dtype=tf.float32, stddev=1e-1))\n",
    "fc2_b = tf.Variable(tf.constant(0.0, shape=[10], dtype=tf.float32), trainable=True)\n",
    "\n",
    "#### Build Forward Pass\n",
    "# Conv-1\n",
    "c1 = tf.nn.conv2d(x, conv1_filter, [1,1,1,1], padding=\"SAME\") # out = 28x28x32\n",
    "b1 = tf.nn.bias_add(c1, conv1_bias)\n",
    "conv1 = tf.nn.relu(b1)\n",
    "conv1_pool = tf.nn.max_pool(conv1, ksize=[1, 2, 2, 1], strides=[1, 2, 2, 1], padding='SAME') # out = 14x14x32\n",
    "print(\"Conv1.shape: {0}\".format(conv1.shape))\n",
    "print(\"Conv1_pool.shape: {0}\".format(conv1_pool.shape))\n",
    "# Conv-2\n",
    "c2 = tf.nn.conv2d(conv1_pool, conv2_filter, [1,1,1,1], padding=\"SAME\") # out = 14x14x64\n",
    "b2 = tf.nn.bias_add(c2, conv2_bias)\n",
    "conv2 = tf.nn.relu(b2)\n",
    "conv2_pool = tf.nn.max_pool(conv2, ksize=[1, 2, 2, 1], strides=[1, 2, 2, 1], padding='SAME') # out = 7x7x64\n",
    "print(\"Conv2.shape: {0}\".format(conv2.shape))\n",
    "print(\"Conv2_pool.shape: {0}\".format(conv2_pool.shape))\n",
    "# FC-1\n",
    "flat = tf.reshape(conv2_pool, [-1,7*7*64])\n",
    "f1 = tf.matmul(flat, fc1_W) + fc1_b\n",
    "fc1 = tf.nn.relu(f1)\n",
    "print(\"fc1.shape: {0}\".format(fc1.shape))\n",
    "# FC-2\n",
    "f2 = tf.matmul(fc1, fc2_W) + fc2_b\n",
    "y_logits = f2\n",
    "print(\"y_logits.shape: {0}\".format(y_logits.shape))\n",
    "\n",
    "# Define accuracy operation for validation step\n",
    "correct_preds = tf.equal(tf.argmax(y_logits,1),tf.argmax(y_, 1))\n",
    "accuracy = tf.reduce_mean(tf.cast(correct_preds, tf.float32))\n",
    "\n",
    "# Define Cross Entropy Loss Function and SGD Optimizer\n",
    "xent = tf.reduce_mean(tf.nn.softmax_cross_entropy_with_logits(labels=y_, logits=y_logits))\n",
    "p3a_trainer = tf.train.GradientDescentOptimizer(learning_rate=0.1).minimize(xent)"
   ]
  },
  {
   "cell_type": "markdown",
   "metadata": {},
   "source": [
    "#### Run Model"
   ]
  },
  {
   "cell_type": "code",
   "execution_count": 6,
   "metadata": {
    "collapsed": false
   },
   "outputs": [
    {
     "name": "stdout",
     "output_type": "stream",
     "text": [
      "Extracting ../MNIST_data/train-images-idx3-ubyte.gz\n",
      "Extracting ../MNIST_data/train-labels-idx1-ubyte.gz\n",
      "Extracting ../MNIST_data/t10k-images-idx3-ubyte.gz\n",
      "Extracting ../MNIST_data/t10k-labels-idx1-ubyte.gz\n",
      "[ 0 / 2000 ] Validation Accuracy: 0.14000000171363353\n",
      "[ 50 / 2000 ] Validation Accuracy: 0.9079999804496766\n",
      "[ 100 / 2000 ] Validation Accuracy: 0.9459999918937685\n",
      "[ 150 / 2000 ] Validation Accuracy: 0.952000004053116\n",
      "[ 200 / 2000 ] Validation Accuracy: 0.971999990940094\n",
      "[ 250 / 2000 ] Validation Accuracy: 0.9679999887943267\n",
      "[ 300 / 2000 ] Validation Accuracy: 0.9699999988079073\n",
      "[ 350 / 2000 ] Validation Accuracy: 0.9800000071525572\n",
      "[ 400 / 2000 ] Validation Accuracy: 0.9700000047683714\n",
      "[ 450 / 2000 ] Validation Accuracy: 0.9639999985694885\n",
      "[ 500 / 2000 ] Validation Accuracy: 0.9820000052452088\n",
      "[ 550 / 2000 ] Validation Accuracy: 0.9860000014305115\n",
      "[ 600 / 2000 ] Validation Accuracy: 0.9820000052452087\n",
      "[ 650 / 2000 ] Validation Accuracy: 0.980000001192093\n",
      "[ 700 / 2000 ] Validation Accuracy: 0.9860000073909758\n",
      "[ 750 / 2000 ] Validation Accuracy: 0.9820000052452088\n",
      "[ 800 / 2000 ] Validation Accuracy: 0.9840000033378601\n",
      "[ 850 / 2000 ] Validation Accuracy: 0.9759999930858613\n",
      "[ 900 / 2000 ] Validation Accuracy: 0.9740000009536742\n",
      "[ 950 / 2000 ] Validation Accuracy: 0.9740000009536742\n",
      "[ 1000 / 2000 ] Validation Accuracy: 0.9920000076293946\n",
      "[ 1050 / 2000 ] Validation Accuracy: 0.9819999992847444\n",
      "[ 1100 / 2000 ] Validation Accuracy: 0.986000007390976\n",
      "[ 1150 / 2000 ] Validation Accuracy: 0.9940000057220458\n",
      "[ 1200 / 2000 ] Validation Accuracy: 0.9799999952316284\n",
      "[ 1250 / 2000 ] Validation Accuracy: 0.9900000095367432\n",
      "[ 1300 / 2000 ] Validation Accuracy: 0.9900000035762785\n",
      "[ 1350 / 2000 ] Validation Accuracy: 0.9740000009536742\n",
      "[ 1400 / 2000 ] Validation Accuracy: 0.9920000076293944\n",
      "[ 1450 / 2000 ] Validation Accuracy: 0.9819999992847442\n",
      "[ 1500 / 2000 ] Validation Accuracy: 0.9899999976158143\n",
      "[ 1550 / 2000 ] Validation Accuracy: 0.9819999992847442\n",
      "[ 1600 / 2000 ] Validation Accuracy: 0.9779999971389772\n",
      "[ 1650 / 2000 ] Validation Accuracy: 0.9780000030994415\n",
      "[ 1700 / 2000 ] Validation Accuracy: 0.9780000030994415\n",
      "[ 1750 / 2000 ] Validation Accuracy: 0.9940000057220459\n",
      "[ 1800 / 2000 ] Validation Accuracy: 0.9880000054836271\n",
      "[ 1850 / 2000 ] Validation Accuracy: 0.986000007390976\n",
      "[ 1900 / 2000 ] Validation Accuracy: 0.9900000035762786\n",
      "[ 1950 / 2000 ] Validation Accuracy: 0.98400000333786\n",
      "[ 1999 / 2000 ] Validation Accuracy: 0.9860000014305115\n",
      "Best Val Accuracy: 0.9940000057220459\n",
      "Final Test Accuracy: 0.9876000285148621\n"
     ]
    },
    {
     "data": {
      "image/png": "[encoded data removed]",
      "text/plain": [
       "<Figure size 720x360 with 2 Axes>"
      ]
     },
     "metadata": {
      "needs_background": "light"
     },
     "output_type": "display_data"
    }
   ],
   "source": [
    "# Import data\n",
    "mnist = input_data.read_data_sets(\"../MNIST_data/\", one_hot=True)  \n",
    "# Run train step\n",
    "v_hist,v_iters,l_hist = train_step(p3a_trainer, 2000, mnist.train, mnist.validation, mnist.test)\n",
    "\n",
    "plt.figure(figsize=(10,5))\n",
    "plt.subplot(1,2,1)\n",
    "plt.plot(v_iters, v_hist,label=\"Val Acc\")\n",
    "plt.title(\"Validation Accuracy vs Iterations\")\n",
    "plt.xlabel(\"Iteration\")\n",
    "plt.ylabel(\"Val Accuracy\")\n",
    "plt.ylim(0.,1.)\n",
    "\n",
    "plt.subplot(1,2,2)\n",
    "plt.plot(range(len(l_hist)),l_hist, label=\"Loss\")\n",
    "plt.title(\"Training Loss vs Iterations\")\n",
    "plt.xlabel(\"Iteration\")\n",
    "plt.ylabel(\"Loss\")\n",
    "\n",
    "plt.show()"
   ]
  },
  {
   "cell_type": "markdown",
   "metadata": {},
   "source": [
    "### Problem 3b - CNN with Dropout\n",
    "\n",
    "- Probability of dropout during training=50%"
   ]
  },
  {
   "cell_type": "markdown",
   "metadata": {},
   "source": [
    "#### Build Model"
   ]
  },
  {
   "cell_type": "code",
   "execution_count": 7,
   "metadata": {
    "collapsed": false
   },
   "outputs": [
    {
     "name": "stdout",
     "output_type": "stream",
     "text": [
      "Conv1.shape: (?, 28, 28, 32)\n",
      "Conv2.shape: (?, 28, 28, 64)\n",
      "fc1.shape: (?, 512)\n",
      "y_logits.shape: (?, 10)\n"
     ]
    }
   ],
   "source": [
    "# Clear previous ops from the graph\n",
    "tf.reset_default_graph()\n",
    "\n",
    "# Build Network with 2 conv layers and 2 fc layers with 10-class output and dropout\n",
    "\n",
    "#### Initialize Placeholders for inputs\n",
    "x = tf.placeholder(tf.float32, [None, 28, 28, 1])\n",
    "y_ = tf.placeholder(tf.float32, [None, 10])\n",
    "keep_prob = tf.placeholder(tf.float32) # Actually used here\n",
    "\n",
    "#### Initialize Learnable Parameters\n",
    "# Conv-1\n",
    "conv1_filter = tf.Variable(tf.truncated_normal([3,3,1,32], dtype=tf.float32, stddev=1e-1))\n",
    "conv1_bias = tf.Variable(tf.constant(0.0, shape=[32], dtype=tf.float32), trainable=True)\n",
    "# Conv-2\n",
    "conv2_filter = tf.Variable(tf.truncated_normal([3,3,32,64], dtype=tf.float32, stddev=1e-1))\n",
    "conv2_bias = tf.Variable(tf.constant(0.0, shape=[64], dtype=tf.float32), trainable=True)\n",
    "# FC-1\n",
    "fc1_W = tf.Variable(tf.truncated_normal([28*28*64, 512], dtype=tf.float32, stddev=1e-1))\n",
    "fc1_b = tf.Variable(tf.constant(0.0, shape=[512], dtype=tf.float32), trainable=True)\n",
    "# FC-2\n",
    "fc2_W = tf.Variable(tf.truncated_normal([512, 10], dtype=tf.float32, stddev=1e-1))\n",
    "fc2_b = tf.Variable(tf.constant(0.0, shape=[10], dtype=tf.float32), trainable=True)\n",
    "\n",
    "#### Build Forward Pass\n",
    "# Conv-1\n",
    "c1 = tf.nn.conv2d(x, conv1_filter, [1,1,1,1], padding=\"SAME\") # out = 28x28x32\n",
    "b1 = tf.nn.bias_add(c1, conv1_bias)\n",
    "conv1 = tf.nn.relu(b1)\n",
    "print(\"Conv1.shape: {0}\".format(conv1.shape))\n",
    "# Conv-2\n",
    "c2 = tf.nn.conv2d(conv1, conv2_filter, [1,1,1,1], padding=\"SAME\") # out = 28x28x64\n",
    "b2 = tf.nn.bias_add(c2, conv2_bias)\n",
    "conv2 = tf.nn.relu(b2)\n",
    "print(\"Conv2.shape: {0}\".format(conv2.shape))\n",
    "# FC-1\n",
    "flat = tf.reshape(conv2, [-1,28*28*64])\n",
    "f1 = tf.matmul(flat, fc1_W) + fc1_b\n",
    "fc1 = tf.nn.relu(f1)\n",
    "print(\"fc1.shape: {0}\".format(fc1.shape))\n",
    "fc1_drop = tf.nn.dropout(fc1, keep_prob=keep_prob)\n",
    "# FC-2\n",
    "f2 = tf.matmul(fc1_drop, fc2_W) + fc2_b\n",
    "y_logits = f2\n",
    "print(\"y_logits.shape: {0}\".format(y_logits.shape))\n",
    "\n",
    "# Define accuracy operation for validation step\n",
    "correct_preds = tf.equal(tf.argmax(y_logits,1),tf.argmax(y_, 1))\n",
    "accuracy = tf.reduce_mean(tf.cast(correct_preds, tf.float32))\n",
    "\n",
    "# Define Cross Entropy Loss Function and SGD Optimizer\n",
    "xent = tf.reduce_mean(tf.nn.softmax_cross_entropy_with_logits(labels=y_, logits=y_logits))\n",
    "p3b_trainer = tf.train.GradientDescentOptimizer(learning_rate=0.1).minimize(xent)"
   ]
  },
  {
   "cell_type": "markdown",
   "metadata": {},
   "source": [
    "#### Run Training"
   ]
  },
  {
   "cell_type": "code",
   "execution_count": 8,
   "metadata": {
    "collapsed": false
   },
   "outputs": [
    {
     "name": "stdout",
     "output_type": "stream",
     "text": [
      "Extracting ../MNIST_data/train-images-idx3-ubyte.gz\n",
      "Extracting ../MNIST_data/train-labels-idx1-ubyte.gz\n",
      "Extracting ../MNIST_data/t10k-images-idx3-ubyte.gz\n",
      "Extracting ../MNIST_data/t10k-labels-idx1-ubyte.gz\n",
      "[ 0 / 2000 ] Validation Accuracy: 0.09399999864399433\n",
      "[ 50 / 2000 ] Validation Accuracy: 0.8159999966621401\n",
      "[ 100 / 2000 ] Validation Accuracy: 0.9000000000000001\n",
      "[ 150 / 2000 ] Validation Accuracy: 0.92399999499321\n",
      "[ 200 / 2000 ] Validation Accuracy: 0.9279999911785126\n",
      "[ 250 / 2000 ] Validation Accuracy: 0.9480000078678132\n",
      "[ 300 / 2000 ] Validation Accuracy: 0.9420000076293946\n",
      "[ 350 / 2000 ] Validation Accuracy: 0.9519999980926515\n",
      "[ 400 / 2000 ] Validation Accuracy: 0.957999986410141\n",
      "[ 450 / 2000 ] Validation Accuracy: 0.9699999988079071\n",
      "[ 500 / 2000 ] Validation Accuracy: 0.9619999945163726\n",
      "[ 550 / 2000 ] Validation Accuracy: 0.9540000021457673\n",
      "[ 600 / 2000 ] Validation Accuracy: 0.9679999947547914\n",
      "[ 650 / 2000 ] Validation Accuracy: 0.9739999949932099\n",
      "[ 700 / 2000 ] Validation Accuracy: 0.972000002861023\n",
      "[ 750 / 2000 ] Validation Accuracy: 0.9739999949932099\n",
      "[ 800 / 2000 ] Validation Accuracy: 0.9639999985694884\n",
      "[ 850 / 2000 ] Validation Accuracy: 0.9819999992847444\n",
      "[ 900 / 2000 ] Validation Accuracy: 0.9719999969005586\n",
      "[ 950 / 2000 ] Validation Accuracy: 0.9680000066757204\n",
      "[ 1000 / 2000 ] Validation Accuracy: 0.9619999945163726\n",
      "[ 1050 / 2000 ] Validation Accuracy: 0.9800000011920929\n",
      "[ 1100 / 2000 ] Validation Accuracy: 0.9680000007152557\n",
      "[ 1150 / 2000 ] Validation Accuracy: 0.9799999952316284\n",
      "[ 1200 / 2000 ] Validation Accuracy: 0.980000001192093\n",
      "[ 1250 / 2000 ] Validation Accuracy: 0.9680000066757202\n",
      "[ 1300 / 2000 ] Validation Accuracy: 0.9760000050067903\n",
      "[ 1350 / 2000 ] Validation Accuracy: 0.9860000073909759\n",
      "[ 1400 / 2000 ] Validation Accuracy: 0.9759999990463257\n",
      "[ 1450 / 2000 ] Validation Accuracy: 0.9819999992847442\n",
      "[ 1500 / 2000 ] Validation Accuracy: 0.98400000333786\n",
      "[ 1550 / 2000 ] Validation Accuracy: 0.9819999992847444\n",
      "[ 1600 / 2000 ] Validation Accuracy: 0.9680000007152556\n",
      "[ 1650 / 2000 ] Validation Accuracy: 0.9900000035762786\n",
      "[ 1700 / 2000 ] Validation Accuracy: 0.9840000033378602\n",
      "[ 1750 / 2000 ] Validation Accuracy: 0.9820000052452089\n",
      "[ 1800 / 2000 ] Validation Accuracy: 0.9819999933242798\n",
      "[ 1850 / 2000 ] Validation Accuracy: 0.9760000050067901\n",
      "[ 1900 / 2000 ] Validation Accuracy: 0.9820000052452086\n",
      "[ 1950 / 2000 ] Validation Accuracy: 0.9780000030994416\n",
      "[ 1999 / 2000 ] Validation Accuracy: 0.980000013113022\n",
      "Best Val Accuracy: 0.9900000035762786\n",
      "Final Test Accuracy: 0.9803000092506409\n"
     ]
    },
    {
     "data": {
      "image/png": "[encoded data removed]",
      "text/plain": [
       "<Figure size 720x360 with 2 Axes>"
      ]
     },
     "metadata": {
      "needs_background": "light"
     },
     "output_type": "display_data"
    }
   ],
   "source": [
    "# Import data\n",
    "mnist = input_data.read_data_sets(\"../MNIST_data/\", one_hot=True)  \n",
    "# Run train step\n",
    "v_hist,v_iters,l_hist = train_step(p3b_trainer, 2000, mnist.train, mnist.validation, mnist.test)\n",
    "\n",
    "plt.figure(figsize=(10,5))\n",
    "plt.subplot(1,2,1)\n",
    "plt.plot(v_iters, v_hist,label=\"Val Acc\")\n",
    "plt.title(\"Validation Accuracy vs Iterations\")\n",
    "plt.xlabel(\"Iteration\")\n",
    "plt.ylabel(\"Val Accuracy\")\n",
    "plt.ylim(0.,1.)\n",
    "\n",
    "plt.subplot(1,2,2)\n",
    "plt.plot(range(len(l_hist)),l_hist, label=\"Loss\")\n",
    "plt.title(\"Training Loss vs Iterations\")\n",
    "plt.xlabel(\"Iteration\")\n",
    "plt.ylabel(\"Loss\")\n",
    "\n",
    "plt.show()"
   ]
  },
  {
   "cell_type": "markdown",
   "metadata": {},
   "source": [
    "## Problem 4: Performance comparison (24 points)\n",
    "\n",
    "The goal is to compare the performance characteristics of different architectures at classifying\n",
    "MNIST digits. For this purpose, split the data into training and validation using the standard\n",
    "60K/10K split. Please answer the following questions:\n",
    "\n",
    "    a) What is the validation accuracy of the CNN with and without pooling?\n",
    "    b) Did you observe any performance improvements after adding dropout?\n",
    "    c) How does the CNN model compare, in terms of performance, to the multi-class logistic regression and multi-class MLP from HW2?\n",
    "    d) How does the number of trainable parameters in the CNN models compare to that of the multi-class logistic regression and multi-class MLP from HW2?\n",
    "    \n",
    "Notes:\n",
    "- All CNN models trained for 2000 iterations using SGD with fixed learning rate of 0.1 to minimize cross entropy loss.\n",
    "- Dropout model used 50% probability of dropout during training\n",
    "\n",
    "**(A)** What is the validation accuracy of the CNN with and without pooling?\n",
    "\n",
    "For the CNN without pooling (problem 2), the best observed validation accuracy over 500 random samples from the validation set is 99%. After training, the final model achieved 98.24% on the full test set. For the CNN with pooling (problem 3a), the best observed validation accuracy was 99.4% and the final model tested at 98.76%. Overall, both models performed very similarly with the pooling version slightly outperforming the non-pooling version. One noticeable improvement with the pooling version was training was much faster, as the pooling operators significantly decreased the spatial sizes of the feature maps.\n",
    "\n",
    "**(B)** Did you observe any performance improvements after adding dropout?\n",
    "\n",
    "No, I did not notice performance benefits with dropout. The non-dropout model had a final test accuracy of 98.24% and the dropout model yielded 98.03%, which is a negligible difference. Also, the learning curves for the two models appear about the same.\n",
    "\n",
    "**(C)** How does the CNN model compare, in terms of performance, to the multi-class logistic regression and multi-class MLP from HW2 (HW1?) ?\n",
    "\n",
    "All of the models tested here performed better than the logistic regression and MLP models from HW2. The logistic regression model had a final test accuracy of 89.7% and the 2-Layer MLP with 100 nodes in each hidden layer tested at 93.69%. Thus, the CNN models here all significantly outperformed those at about 98% accuracy.\n",
    "\n",
    "**(D)** How does the number of trainable parameters in the CNN models compare to that of the multi-class logistic regression and multi-class MLP from HW2?\n",
    "\n",
    "Logistic Regression:\n",
    "- W = 784x10 = 7,840\n",
    "- b = 10\n",
    "- TOTAL = 7,850\n",
    "\n",
    "100-100 node MLP\n",
    "- W1 = 784x100 = 78,400\n",
    "- b1 = 100\n",
    "- W2 = 100x100 = 10,000\n",
    "- b2 = 100\n",
    "- W3 = 100x10 = 1,000\n",
    "- b3 = 10\n",
    "- TOTAL = 89,610\n",
    "\n",
    "CNN - vanilla and with dropout\n",
    "- Conv1-K = 3x3x1x32 = 288\n",
    "- Conv1-b = 32\n",
    "- Conv2-K = 3x3x32x64 = 18,432\n",
    "- Conv2-b = 64\n",
    "- W1 = 28x28x64x512 = 25,690,112\n",
    "- b1 = 512\n",
    "- W2 = 512x10 = 5,120\n",
    "- b2 = 10\n",
    "- TOTAL = 25,714,570\n",
    "\n",
    "CNN - with pooling\n",
    "- Conv1-K = 3x3x1x32 = 288\n",
    "- Conv1-b = 32\n",
    "- Conv2-K = 3x3x32x64 = 18,432\n",
    "- Conv2-b = 64\n",
    "- W1 = 7x7x64x512 = 1,605,632\n",
    "- b1 = 512\n",
    "- W2 = 512x10 = 5,120\n",
    "- b2 = 10\n",
    "- TOTAL = 1,630,090\n",
    "\n",
    "Overall, the number of trainable parameters in the CNN models is significantly more than the logistic regression and MLP models. However, the convolutional layers play a very small part in the total. The dominant factor in the total is the first FC layer of the CNN which takes the flattened feature map from the second conv layer. We can also see that pooling has a large impact on parameters. The pooling operator does not add additional params, but significantly decreased the number of parameters in the feature map, meaning the flattened feature vector is much smaller after the second conv layer. Suprisingly, the CNN with pooling has over 15x less parameters but still outperforms the bigger models."
   ]
  },
  {
   "cell_type": "markdown",
   "metadata": {
    "collapsed": true
   },
   "source": [
    "## Problem 5: Bookkeeping (4 points)\n",
    "\n",
    "**(A)** \n",
    "\n",
    "This assignment took 10-15 hours\n",
    "\n",
    "**(B)**\n",
    "\n",
    "I adhered to the Duke Community Standard in the completion of this assignment - NAI"
   ]
  },
  {
   "cell_type": "code",
   "execution_count": null,
   "metadata": {
    "collapsed": true
   },
   "outputs": [],
   "source": []
  }
 ],
 "metadata": {
  "anaconda-cloud": {},
  "kernelspec": {
   "display_name": "Python [conda env:tensorflow_p36]",
   "language": "python",
   "name": "conda-env-tensorflow_p36-py"
  },
  "language_info": {
   "codemirror_mode": {
    "name": "ipython",
    "version": 3
   },
   "file_extension": ".py",
   "mimetype": "text/x-python",
   "name": "python",
   "nbconvert_exporter": "python",
   "pygments_lexer": "ipython3",
   "version": "3.6.6"
  }
 },
 "nbformat": 4,
 "nbformat_minor": 1
}
